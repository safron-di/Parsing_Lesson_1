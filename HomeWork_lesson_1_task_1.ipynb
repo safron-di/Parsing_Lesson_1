{
 "cells": [
  {
   "cell_type": "code",
   "execution_count": 1,
   "metadata": {
    "executionInfo": {
     "elapsed": 346,
     "status": "ok",
     "timestamp": 1681983271652,
     "user": {
      "displayName": "Дмитрий Сафронов",
      "userId": "17113822403674322137"
     },
     "user_tz": -180
    },
    "id": "oD0uTtih-yNb",
    "tags": []
   },
   "outputs": [],
   "source": [
    "import requests\n",
    "import json"
   ]
  },
  {
   "cell_type": "code",
   "execution_count": 2,
   "metadata": {
    "executionInfo": {
     "elapsed": 251,
     "status": "ok",
     "timestamp": 1681996578125,
     "user": {
      "displayName": "Дмитрий Сафронов",
      "userId": "17113822403674322137"
     },
     "user_tz": -180
    },
    "id": "okD1YAVELPgz",
    "tags": []
   },
   "outputs": [],
   "source": [
    "user='errfrost'\n",
    "url = 'https://api.github.com/'"
   ]
  },
  {
   "cell_type": "code",
   "execution_count": 5,
   "metadata": {
    "executionInfo": {
     "elapsed": 279,
     "status": "ok",
     "timestamp": 1681996630164,
     "user": {
      "displayName": "Дмитрий Сафронов",
      "userId": "17113822403674322137"
     },
     "user_tz": -180
    },
    "id": "Nl6zuZxUnD8C",
    "tags": []
   },
   "outputs": [],
   "source": [
    "list_repo = requests.get(f'{url}users/{user}/repos').json()\n"
   ]
  },
  {
   "cell_type": "code",
   "execution_count": 6,
   "metadata": {
    "colab": {
     "base_uri": "https://localhost:8080/"
    },
    "executionInfo": {
     "elapsed": 2,
     "status": "ok",
     "timestamp": 1681996631750,
     "user": {
      "displayName": "Дмитрий Сафронов",
      "userId": "17113822403674322137"
     },
     "user_tz": -180
    },
    "id": "57e9fxtosJMG",
    "outputId": "bf6b910b-4abd-4bec-fc72-567709795e67",
    "tags": []
   },
   "outputs": [
    {
     "name": "stdout",
     "output_type": "stream",
     "text": [
      "This users have 16 repositiries\n",
      "\n",
      "1 Repository\n",
      " Name : Altyn\n",
      "    type: Pablic\n",
      "    created_at:2022-03-16T12:24:38Z\n",
      "    updated_at:2022-03-18T18:08:53Z\n",
      "    url:https://github.com/errfrost/Altyn\n",
      "\n",
      "2 Repository\n",
      " Name : basic-js\n",
      "    type: Pablic\n",
      "    created_at:2022-10-13T18:05:10Z\n",
      "    updated_at:2022-10-13T18:55:06Z\n",
      "    url:https://github.com/errfrost/basic-js\n",
      "\n",
      "3 Repository\n",
      " Name : basic-js-ds\n",
      "    type: Pablic\n",
      "    created_at:2022-10-16T20:14:02Z\n",
      "    updated_at:2022-10-17T11:11:43Z\n",
      "    url:https://github.com/errfrost/basic-js-ds\n",
      "\n",
      "4 Repository\n",
      " Name : clean-code-s1e1\n",
      "    type: Pablic\n",
      "    created_at:2022-10-28T18:38:09Z\n",
      "    updated_at:2022-10-28T09:51:28Z\n",
      "    url:https://github.com/errfrost/clean-code-s1e1\n",
      "\n",
      "5 Repository\n",
      " Name : connect_metamask_react\n",
      "    type: Pablic\n",
      "    created_at:2022-01-08T15:46:54Z\n",
      "    updated_at:2022-01-08T15:47:02Z\n",
      "    url:https://github.com/errfrost/connect_metamask_react\n",
      "\n",
      "6 Repository\n",
      " Name : core-js-101\n",
      "    type: Pablic\n",
      "    created_at:2022-12-21T18:07:39Z\n",
      "    updated_at:2022-12-21T18:36:49Z\n",
      "    url:https://github.com/errfrost/core-js-101\n",
      "\n",
      "7 Repository\n",
      " Name : final-task-backend\n",
      "    type: Pablic\n",
      "    created_at:2023-01-31T18:37:51Z\n",
      "    updated_at:2023-01-31T18:39:50Z\n",
      "    url:https://github.com/errfrost/final-task-backend\n",
      "\n",
      "8 Repository\n",
      " Name : HTML-builder\n",
      "    type: Pablic\n",
      "    created_at:2022-11-02T18:17:46Z\n",
      "    updated_at:2022-11-06T19:19:06Z\n",
      "    url:https://github.com/errfrost/HTML-builder\n",
      "\n",
      "9 Repository\n",
      " Name : imiko-web\n",
      "    type: Pablic\n",
      "    created_at:2023-02-06T11:14:22Z\n",
      "    updated_at:2023-02-13T16:49:11Z\n",
      "    url:https://github.com/errfrost/imiko-web\n",
      "\n",
      "10 Repository\n",
      " Name : my_dex_arbitrage_bot\n",
      "    type: Pablic\n",
      "    created_at:2022-06-14T14:51:39Z\n",
      "    updated_at:2022-11-25T06:58:39Z\n",
      "    url:https://github.com/errfrost/my_dex_arbitrage_bot\n",
      "\n",
      "11 Repository\n",
      " Name : online-store\n",
      "    type: Pablic\n",
      "    created_at:2023-01-13T09:15:35Z\n",
      "    updated_at:2023-01-22T14:36:20Z\n",
      "    url:https://github.com/errfrost/online-store\n",
      "\n",
      "12 Repository\n",
      " Name : rs-clone\n",
      "    type: Pablic\n",
      "    created_at:2023-03-02T14:31:14Z\n",
      "    updated_at:2023-02-26T11:56:12Z\n",
      "    url:https://github.com/errfrost/rs-clone\n",
      "\n",
      "13 Repository\n",
      " Name : rs-react\n",
      "    type: Pablic\n",
      "    created_at:2023-03-13T12:08:28Z\n",
      "    updated_at:2023-04-02T15:50:25Z\n",
      "    url:https://github.com/errfrost/rs-react\n",
      "\n",
      "14 Repository\n",
      " Name : rsschool-cv\n",
      "    type: Pablic\n",
      "    created_at:2022-09-14T07:50:17Z\n",
      "    updated_at:2022-09-14T07:50:17Z\n",
      "    url:https://github.com/errfrost/rsschool-cv\n",
      "\n",
      "15 Repository\n",
      " Name : simple_storage_contract\n",
      "    type: Pablic\n",
      "    created_at:2022-01-18T17:30:58Z\n",
      "    updated_at:2022-01-18T17:31:08Z\n",
      "    url:https://github.com/errfrost/simple_storage_contract\n",
      "\n",
      "16 Repository\n",
      " Name : vite-simple-config\n",
      "    type: Pablic\n",
      "    created_at:2023-04-20T13:20:04Z\n",
      "    updated_at:2023-04-20T13:20:13Z\n",
      "    url:https://github.com/errfrost/vite-simple-config\n",
      "\n"
     ]
    }
   ],
   "source": [
    "# Выведим сокращенную информацию о репозиториях\n",
    "print(f'This users have {len(list_repo)} repositiries\\n')\n",
    "for n, repo in enumerate(list_repo):\n",
    "  type_repo = 'Privat' if repo[\"private\"] == 'False' else 'Pablic'\n",
    "  print(f'{n+1} Repository\\n Name : {repo[\"name\"]}\\n    type: {type_repo}\\n    created_at:{repo[\"created_at\"]}' \\\n",
    "        f'\\n    updated_at:{repo[\"updated_at\"]}\\n    url:{repo[\"svn_url\"]}\\n')"
   ]
  },
  {
   "cell_type": "code",
   "execution_count": 7,
   "metadata": {
    "tags": []
   },
   "outputs": [],
   "source": [
    "# Сохраним файл Json\n",
    "with open('repository.json', 'w') as f:\n",
    "    json.dump(list_repo, f)"
   ]
  },
  {
   "cell_type": "code",
   "execution_count": null,
   "metadata": {},
   "outputs": [],
   "source": []
  }
 ],
 "metadata": {
  "colab": {
   "authorship_tag": "ABX9TyPg/NUjj7g1lb2e6iT30I8I",
   "provenance": [],
   "toc_visible": true
  },
  "kernelspec": {
   "display_name": "Python 3 (ipykernel)",
   "language": "python",
   "name": "python3"
  },
  "language_info": {
   "codemirror_mode": {
    "name": "ipython",
    "version": 3
   },
   "file_extension": ".py",
   "mimetype": "text/x-python",
   "name": "python",
   "nbconvert_exporter": "python",
   "pygments_lexer": "ipython3",
   "version": "3.9.13"
  }
 },
 "nbformat": 4,
 "nbformat_minor": 4
}
