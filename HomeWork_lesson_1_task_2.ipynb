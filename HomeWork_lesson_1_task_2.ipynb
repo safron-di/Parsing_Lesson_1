{
 "cells": [
  {
   "cell_type": "code",
   "execution_count": 213,
   "id": "4675827f-b615-4a7d-8a63-a587653114bc",
   "metadata": {
    "tags": []
   },
   "outputs": [],
   "source": [
    "import requests"
   ]
  },
  {
   "cell_type": "code",
   "execution_count": 187,
   "id": "2816306b-e587-4822-851c-f98ba6970386",
   "metadata": {
    "tags": []
   },
   "outputs": [],
   "source": [
    "# res_users = requests.get(f'https://api.vk.com/method/users.get?user_ids=1&access_token={access_token}&v={api_version}')\n",
    "request_params = {    \n",
    "    'access_token':\"vk1.a.WcD0aYfbQVJf0JgaKHfvOdbVdjUqVfU2NQifdv3jBG9eGtd54hOC5Kaz56xtgzoN4nYh33Wy-SfRuwd9tMOFf1mNFHx7JlNT9Mw8MNOLRPGHj_9eTVJzZTbe7qy7S9z4Kd5sG2ZomJ_x6lEkyFZhx9u2rFoZ0YBM5H2zL9DJvClRFDQm3pu59blDtJyJkYjp\",\n",
    "    'user_ids': 174986460,\n",
    "    'v':5.131,\n",
    "    'extended': 1}\n",
    "   "
   ]
  },
  {
   "cell_type": "code",
   "execution_count": 188,
   "id": "5e453391-9368-4fc3-a402-216dc48ce3b9",
   "metadata": {
    "tags": []
   },
   "outputs": [],
   "source": [
    "vk_response = requests.get('https://api.vk.com/method/groups.get', params = request_params)"
   ]
  },
  {
   "cell_type": "code",
   "execution_count": 221,
   "id": "c8b6ff09-a95b-4953-bb06-0b4992e9b476",
   "metadata": {
    "tags": []
   },
   "outputs": [],
   "source": [
    "group_list = vk_response.json()['response']['items']"
   ]
  },
  {
   "cell_type": "code",
   "execution_count": 225,
   "id": "a2ad9f81-7e3f-4dac-8d8f-b41d61aaf61c",
   "metadata": {
    "tags": []
   },
   "outputs": [
    {
     "name": "stdout",
     "output_type": "stream",
     "text": [
      "Render.ru — компьютерная графика CG и анимация\n",
      "TechInsider\n",
      "Vivi.market\n",
      "Рендер-ферма TurboRender\n",
      "Бизнес-Ангелы РФ\n",
      "CG gallery\n",
      "CLODIS CG\n",
      "Hydra Renderer\n",
      "CLOUD HYDRA\n",
      "SmartRim\n",
      "Thea Render - Русскоязычное сообщество.\n",
      "Любители ZEMAX\n",
      "pepelac renderer\n",
      "Рендер ферма в аренду\n",
      "Архитектурная визуализация Дополненная реальност\n",
      "Iray Render\n",
      "Такова реальность\n",
      "Юридический Форум: Проблемы IT-рынка\n",
      "CG Universe\n",
      "Black Science\n"
     ]
    }
   ],
   "source": [
    "# Выведим через цикл имена всех групп\n",
    "text=[]\n",
    "for n in range(len(group_list)):\n",
    "    text.append(group_list[n]['name'])\n",
    "    print(group_list[n]['name'])"
   ]
  },
  {
   "cell_type": "code",
   "execution_count": 233,
   "id": "bcc44061-6b7c-4484-aab8-a6e0f1a849ce",
   "metadata": {
    "tags": []
   },
   "outputs": [],
   "source": [
    "# Сохраним имена групп в файл\n",
    "with open(\"vk_groups.txt\", \"wt\", encoding = \"utf8\") as f:\n",
    "    for row in text:\n",
    "        f.write(f'{row}\\n')"
   ]
  }
 ],
 "metadata": {
  "kernelspec": {
   "display_name": "Python 3 (ipykernel)",
   "language": "python",
   "name": "python3"
  },
  "language_info": {
   "codemirror_mode": {
    "name": "ipython",
    "version": 3
   },
   "file_extension": ".py",
   "mimetype": "text/x-python",
   "name": "python",
   "nbconvert_exporter": "python",
   "pygments_lexer": "ipython3",
   "version": "3.9.13"
  }
 },
 "nbformat": 4,
 "nbformat_minor": 5
}
